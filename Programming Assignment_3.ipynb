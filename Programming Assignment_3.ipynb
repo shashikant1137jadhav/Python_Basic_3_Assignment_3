{
 "cells": [
  {
   "cell_type": "markdown",
   "id": "9282d5a5",
   "metadata": {},
   "source": [
    "## 1. Write a Python Program to Check if a Number is Positive, Negative or Zero?"
   ]
  },
  {
   "cell_type": "code",
   "execution_count": null,
   "id": "43fcea22",
   "metadata": {},
   "outputs": [],
   "source": [
    "n = int(input('Enter the number '))\n",
    "if n>=0:\n",
    "    print(f'{n} is positive number')\n",
    "else:\n",
    "    print(f'{n} is negative number')"
   ]
  },
  {
   "cell_type": "markdown",
   "id": "73b2492e",
   "metadata": {},
   "source": [
    "## 2. Write a Python Program to Check if a Number is Odd or Even?"
   ]
  },
  {
   "cell_type": "code",
   "execution_count": null,
   "id": "aa1a637b",
   "metadata": {},
   "outputs": [],
   "source": [
    "n=int(input('Enter the number '))\n",
    "if n%2==0:\n",
    "    print(f'{n} is even number')\n",
    "else:\n",
    "    print(f'{n} is odd number')"
   ]
  },
  {
   "cell_type": "markdown",
   "id": "f76fd5c8",
   "metadata": {},
   "source": [
    "## 3. Write a Python Program to Check Leap Year?"
   ]
  },
  {
   "cell_type": "code",
   "execution_count": null,
   "id": "de8d503f",
   "metadata": {},
   "outputs": [],
   "source": [
    "year = int(input('Enter the year '))\n",
    "if year%4==0:\n",
    "    print(f'{year} is leap year')\n",
    "else:\n",
    "    print(f'{year} is not leap year')"
   ]
  },
  {
   "cell_type": "markdown",
   "id": "bad06e96",
   "metadata": {},
   "source": [
    "## 4. Write a Python Program to Check Prime Number?"
   ]
  },
  {
   "cell_type": "code",
   "execution_count": null,
   "id": "d23c08bb",
   "metadata": {},
   "outputs": [],
   "source": [
    "num = int(input(\"Enter a number: \"))\n",
    "\n",
    "flag = False\n",
    "\n",
    "\n",
    "if num > 1:\n",
    "    \n",
    "    for i in range(2, num):\n",
    "        if (num % i) == 0:\n",
    "         \n",
    "            flag = True\n",
    "         \n",
    "            break\n",
    "\n",
    "\n",
    "if flag:\n",
    "    print(num, \"is not a prime number\")\n",
    "else:\n",
    "    print(num, \"is a prime number\")"
   ]
  },
  {
   "cell_type": "markdown",
   "id": "08e27723",
   "metadata": {},
   "source": [
    "## 5. Write a Python Program to Print all Prime Numbers in an Interval of 1-10000?"
   ]
  },
  {
   "cell_type": "code",
   "execution_count": null,
   "id": "2eff97a8",
   "metadata": {},
   "outputs": [],
   "source": [
    "l1=[]\n",
    "for num in range(1, 10000+ 1):\n",
    "   # all prime numbers are greater than 1\n",
    "   if num > 1:\n",
    "       for i in range(2, num):\n",
    "           if (num % i) == 0:\n",
    "               break\n",
    "           else:\n",
    "               if num  not in l1:\n",
    "                   l1.append((num))\n",
    "\n",
    "print(l1)"
   ]
  }
 ],
 "metadata": {
  "kernelspec": {
   "display_name": "Python 3 (ipykernel)",
   "language": "python",
   "name": "python3"
  },
  "language_info": {
   "codemirror_mode": {
    "name": "ipython",
    "version": 3
   },
   "file_extension": ".py",
   "mimetype": "text/x-python",
   "name": "python",
   "nbconvert_exporter": "python",
   "pygments_lexer": "ipython3",
   "version": "3.9.12"
  }
 },
 "nbformat": 4,
 "nbformat_minor": 5
}
